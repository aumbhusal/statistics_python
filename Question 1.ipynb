{
 "cells": [
  {
   "cell_type": "code",
   "execution_count": 3,
   "id": "16a78f9d",
   "metadata": {},
   "outputs": [],
   "source": [
    "import numpy as np\n",
    "import matplotlib.pyplot as plt"
   ]
  },
  {
   "cell_type": "markdown",
   "id": "3953a271",
   "metadata": {},
   "source": [
    "# Data"
   ]
  },
  {
   "cell_type": "code",
   "execution_count": 8,
   "id": "58bdba4f",
   "metadata": {},
   "outputs": [],
   "source": [
    "data = [27, 4, 52, 30, 22, 36, 26, 20, 23, 33, 68, 165, 32, 29, 28, 29, 26, 25, 1, 14, 13, 13, 10, 5, 19, 126, 110, 110, 29, 61, 35, 94, 31, 26, 5, 12, 4, 54, 5, 35, 137, 31, 27, 152, 2, 123, 81, 74, 27, 11]"
   ]
  },
  {
   "cell_type": "code",
   "execution_count": 9,
   "id": "52691219",
   "metadata": {},
   "outputs": [],
   "source": [
    "mean = np.mean(data)\n",
    "median = np.median(data)\n",
    "q1 = np.percentile(data, 25)\n",
    "q3 = np.percentile(data, 75)"
   ]
  },
  {
   "cell_type": "code",
   "execution_count": 47,
   "id": "cdf07aae",
   "metadata": {},
   "outputs": [
    {
     "name": "stdout",
     "output_type": "stream",
     "text": [
      "Mean: 43.04\n",
      "Median: 28.50\n",
      "First quarter: 15.25\n",
      "Third quarter: 53.50\n"
     ]
    }
   ],
   "source": [
    "print(f\"Mean: {mean:.2f}\")\n",
    "print(f\"Median: {median:.2f}\")\n",
    "print(f\"First quarter: {q1:.2f}\")\n",
    "print(f\"Third quarter: {q3:.2f}\")"
   ]
  },
  {
   "cell_type": "code",
   "execution_count": 55,
   "id": "ea2157d1",
   "metadata": {},
   "outputs": [],
   "source": [
    "data_range = np.max(data) - np.min(data)\n",
    "iqr = q3 - q1\n",
    "variance = np.var(data) \n",
    "std_deviation = np.std(data) \n",
    "coefficient_of_variation = (std_deviation / mean) * 100"
   ]
  },
  {
   "cell_type": "code",
   "execution_count": 56,
   "id": "40278468",
   "metadata": {},
   "outputs": [
    {
     "name": "stdout",
     "output_type": "stream",
     "text": [
      "Range: 164.00\n",
      "Interquartile Range (IQR): 38.25\n",
      "Variance: 1722.64\n",
      "Standard Deviation: 41.50\n",
      "Coefficient of Variation: 96.43%\n"
     ]
    }
   ],
   "source": [
    "print(f\"Range: {data_range:.2f}\")\n",
    "print(f\"Interquartile Range (IQR): {iqr:.2f}\")\n",
    "print(f\"Variance: {variance:.2f}\")\n",
    "print(f\"Standard Deviation: {std_deviation:.2f}\")\n",
    "print(f\"Coefficient of Variation: {coefficient_of_variation:.2f}%\")"
   ]
  },
  {
   "cell_type": "code",
   "execution_count": 51,
   "id": "c7549dd5",
   "metadata": {},
   "outputs": [
    {
     "data": {
      "image/png": "[encoded data removed]",
      "text/plain": [
       "<Figure size 640x480 with 1 Axes>"
      ]
     },
     "metadata": {},
     "output_type": "display_data"
    }
   ],
   "source": [
    "plt.boxplot(data)\n",
    "plt.title(\"Boxplot of Complaint Resolution Time\")\n",
    "plt.ylabel(\"Hours\")\n",
    "plt.show()"
   ]
  },
  {
   "cell_type": "code",
   "execution_count": 52,
   "id": "d7800ea7",
   "metadata": {},
   "outputs": [
    {
     "name": "stdout",
     "output_type": "stream",
     "text": [
      "\n",
      "Based on the statistics:\n",
      "- Mean: 43.04 hours\n",
      "- Median: 28.50 hours\n",
      "- First Quartile (Q1): 15.25 hours\n",
      "- Third Quartile (Q3): 53.50 hours\n"
     ]
    }
   ],
   "source": [
    "print(\"\\nBased on the statistics:\")\n",
    "print(f\"- Mean: {mean:.2f} hours\")\n",
    "print(f\"- Median: {median:.2f} hours\")\n",
    "print(f\"- First Quartile (Q1): {q1:.2f} hours\")\n",
    "print(f\"- Third Quartile (Q3): {q3:.2f} hours\")"
   ]
  },
  {
   "cell_type": "code",
   "execution_count": 53,
   "id": "697cb05c",
   "metadata": {},
   "outputs": [
    {
     "name": "stdout",
     "output_type": "stream",
     "text": [
      "\n",
      "We can see that the data is positively skewed as the median is less than the mean.\n",
      "The boxplot also shows that there are some outliers on the higher end.\n",
      "Therefore, considering the skewness and potential outliers, customers can expect to wait around the median time (about 25.50 hours) for complaint resolution.\n"
     ]
    }
   ],
   "source": [
    "print(\"\\nWe can see that the data is positively skewed as the median is less than the mean.\")\n",
    "print(\"The boxplot also shows that there are some outliers on the higher end.\")\n",
    "print(\"Therefore, considering the skewness and potential outliers, customers can expect to wait around the median time (about 25.50 hours) for complaint resolution.\")"
   ]
  }
 ],
 "metadata": {
  "kernelspec": {
   "display_name": "Python 3 (ipykernel)",
   "language": "python",
   "name": "python3"
  },
  "language_info": {
   "codemirror_mode": {
    "name": "ipython",
    "version": 3
   },
   "file_extension": ".py",
   "mimetype": "text/x-python",
   "name": "python",
   "nbconvert_exporter": "python",
   "pygments_lexer": "ipython3",
   "version": "3.11.3"
  }
 },
 "nbformat": 4,
 "nbformat_minor": 5
}
