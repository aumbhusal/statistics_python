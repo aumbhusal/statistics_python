{
 "cells": [
  {
   "cell_type": "code",
   "execution_count": 5,
   "id": "09c5889d",
   "metadata": {},
   "outputs": [],
   "source": [
    "import numpy as np\n",
    "import pandas as pd\n",
    "from scipy.stats import skew, kurtosis\n",
    "import matplotlib.pyplot as plt"
   ]
  },
  {
   "cell_type": "code",
   "execution_count": 6,
   "id": "91c10e3e",
   "metadata": {},
   "outputs": [
    {
     "name": "stdout",
     "output_type": "stream",
     "text": [
      "        ecological  life\n",
      "Index:                  \n",
      "          mountain    60\n",
      "             hilly    68\n",
      "             terai    72\n"
     ]
    }
   ],
   "source": [
    "data = pd.DataFrame.from_dict({\n",
    "    'ecological': ['mountain','hilly','terai'],\n",
    "    'life': [60,68,72],\n",
    "    'Index: ': ''\n",
    "}).set_index('Index: ')\n",
    "\n",
    "print(data)"
   ]
  },
  {
   "cell_type": "code",
   "execution_count": 25,
   "id": "7caf9c0b",
   "metadata": {},
   "outputs": [],
   "source": [
    "n = len(data.life)\n",
    "mean = np.mean(data.life)\n",
    "std = np.std(data.life)\n",
    "range = np.max(data.life) - np.min(data.life)\n",
    "cv = std / range\n",
    "q1 = np.percentile(data.life,25)\n",
    "q3 = np.percentile(data.life, 75)\n",
    "iqr = q1 - q3\n",
    "\n"
   ]
  },
  {
   "cell_type": "code",
   "execution_count": 32,
   "id": "0656635a",
   "metadata": {},
   "outputs": [
    {
     "name": "stdout",
     "output_type": "stream",
     "text": [
      "Mean: 66.67\n",
      "Stander Derviation: 4.99\n",
      "Range: 12.00\n",
      "CV: 0.42\n",
      "Skewness: -0.38180177416060923\n",
      "Kurtosis: -1.499999999999998\n",
      "First Quarter: 64.00\n",
      "Third Quarter: 70.00\n",
      "IQR Quarter: -6.00\n"
     ]
    }
   ],
   "source": [
    "print(f\"Mean: {mean:.2f}\")\n",
    "print(f\"Stander Derviation: {std:.2f}\")\n",
    "print(f\"Range: {range:.2f}\")\n",
    "print(f\"CV: {cv:.2f}\")\n",
    "print(f\"Skewness: {skew(data.life)}\")\n",
    "print(f\"Kurtosis: {kurtosis(data.life)}\")\n",
    "print(f\"First Quarter: {q1:.2f}\")\n",
    "print(f\"Third Quarter: {q3:.2f}\")\n",
    "print(f\"IQR Quarter: {iqr:.2f}\")\n",
    "\n"
   ]
  }
 ],
 "metadata": {
  "kernelspec": {
   "display_name": "Python 3 (ipykernel)",
   "language": "python",
   "name": "python3"
  },
  "language_info": {
   "codemirror_mode": {
    "name": "ipython",
    "version": 3
   },
   "file_extension": ".py",
   "mimetype": "text/x-python",
   "name": "python",
   "nbconvert_exporter": "python",
   "pygments_lexer": "ipython3",
   "version": "3.11.3"
  }
 },
 "nbformat": 4,
 "nbformat_minor": 5
}
